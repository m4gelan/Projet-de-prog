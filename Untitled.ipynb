{
 "cells": [
  {
   "cell_type": "code",
   "execution_count": 23,
   "metadata": {},
   "outputs": [
    {
     "data": {
      "application/vnd.jupyter.widget-view+json": {
       "model_id": "81f84027a71b43a6b6728cfd2b2a5119",
       "version_major": 2,
       "version_minor": 0
      },
      "text/plain": [
       "Canvas(toolbar=Toolbar(toolitems=[('Home', 'Reset original view', 'home', 'home'), ('Back', 'Back to previous …"
      ]
     },
     "metadata": {},
     "output_type": "display_data"
    }
   ],
   "source": [
    "\n",
    "import matplotlib.pyplot as plt\n",
    "\n",
    "import ipywidgets as widgets\n",
    "%matplotlib widget\n",
    "\n",
    "\n",
    "I=[0,25e-3,50e-3,75e-3,100e-3,125e-3]\n",
    "U=[0,1.7,3.4,5.1,6.8,8.5]\n",
    "plt.figure(\"Loi d'Ohm\")\n",
    "plt.plot(I,U,'b+-',label='U=f(I)')\n",
    "plt.legend(loc=2)\n",
    "plt.show()\n"
   ]
  },
  {
   "cell_type": "code",
   "execution_count": 4,
   "metadata": {},
   "outputs": [],
   "source": [
    "import numpy as np\n",
    "import pylab\n",
    "\n",
    "class plotter:\n",
    "    def __init__(self, initial_values):\n",
    "        self.values\n",
    "        self.fig = pylab.figure()\n",
    "        pylab.gray()\n",
    "        self.ax = self.fig.add_subplot(111)\n",
    "        self.draw()\n",
    "        self.fig.canvas.mpl_connect('key_press_event',self.key)\n",
    "\n",
    "    def draw(self):\n",
    "        im = your_function(self.values)\n",
    "        pylab.show()\n",
    "        self.ax.imshow(im)\n",
    "\n",
    "    def key(self, event):\n",
    "        if event.key=='right':\n",
    "            self.values = modify()\n",
    "        elif event.key == 'left':\n",
    "            self.values = modify()\n",
    "\n",
    "        self.draw()\n",
    "        self.fig.canvas.draw()"
   ]
  },
  {
   "cell_type": "code",
   "execution_count": 22,
   "metadata": {},
   "outputs": [
    {
     "data": {
      "application/vnd.jupyter.widget-view+json": {
       "model_id": "636b2b73adef47208150d2d1aef88fd0",
       "version_major": 2,
       "version_minor": 0
      },
      "text/plain": [
       "interactive(children=(FloatSlider(value=0.0, description='x1', max=10.0, min=-10.0, step=0.2), FloatSlider(val…"
      ]
     },
     "metadata": {},
     "output_type": "display_data"
    }
   ],
   "source": [
    "%matplotlib inline\n",
    "from ipywidgets import interactive\n",
    "import matplotlib.pyplot as plt\n",
    "import numpy as np\n",
    "def terre(x1, y1):\n",
    "    plt.figure(2)\n",
    "    x = np.linspace(-10, 10, num=1000)\n",
    "    plt.plot(x1,y1, marker=\"o\", color=\"red\")\n",
    "    plt.plot(-10,-10, marker=\"o\", color=\"black\")\n",
    "    plt.plot(-10,10, marker=\"o\", color=\"black\")\n",
    "    plt.plot(10,10, marker=\"o\", color=\"black\")\n",
    "    plt.plot(10,-10, marker=\"o\", color=\"black\")\n",
    "    #plt.ylim(-5, 5)\n",
    "    plt.show()\n",
    "def soleil(x2, y2):\n",
    "    plt.figure(2)\n",
    "    x = linspace(-10,10, num= 1000)\n",
    "    plt.plot(x,y)\n",
    "    plt.ylim(-5,5)\n",
    "interactive_plot = interactive(terre, x1=(-10, 10,0.2), y1=(-5, 5, 0.2))\n",
    "#interactive_plot = interactive(soleil, x1=(-10, 10,0.2), y1=(-5, 5, 0.2))\n",
    "output = interactive_plot.children[-1]\n",
    "output.layout.height = '350px'\n",
    "interactive_plot"
   ]
  },
  {
   "cell_type": "code",
   "execution_count": null,
   "metadata": {},
   "outputs": [],
   "source": []
  },
  {
   "cell_type": "code",
   "execution_count": null,
   "metadata": {},
   "outputs": [],
   "source": []
  }
 ],
 "metadata": {
  "kernelspec": {
   "display_name": "Python 3",
   "language": "python",
   "name": "python3"
  },
  "language_info": {
   "codemirror_mode": {
    "name": "ipython",
    "version": 3
   },
   "file_extension": ".py",
   "mimetype": "text/x-python",
   "name": "python",
   "nbconvert_exporter": "python",
   "pygments_lexer": "ipython3",
   "version": "3.8.5"
  }
 },
 "nbformat": 4,
 "nbformat_minor": 4
}
